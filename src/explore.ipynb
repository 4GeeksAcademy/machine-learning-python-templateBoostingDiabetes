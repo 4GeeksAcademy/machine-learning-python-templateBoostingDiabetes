{
    "cells": [
        {
            "cell_type": "markdown",
            "metadata": {},
            "source": [
                "# Explore here"
            ]
        },
        {
            "cell_type": "code",
            "execution_count": 450,
            "metadata": {},
            "outputs": [
                {
                    "name": "stdout",
                    "output_type": "stream",
                    "text": [
                        "Defaulting to user installation because normal site-packages is not writeable\n",
                        "Requirement already satisfied: imblearn in /home/vscode/.local/lib/python3.11/site-packages (0.0)\n",
                        "Requirement already satisfied: imbalanced-learn in /home/vscode/.local/lib/python3.11/site-packages (from imblearn) (0.11.0)\n",
                        "Requirement already satisfied: numpy>=1.17.3 in /home/vscode/.local/lib/python3.11/site-packages (from imbalanced-learn->imblearn) (1.26.1)\n",
                        "Requirement already satisfied: scipy>=1.5.0 in /home/vscode/.local/lib/python3.11/site-packages (from imbalanced-learn->imblearn) (1.11.3)\n",
                        "Requirement already satisfied: scikit-learn>=1.0.2 in /home/vscode/.local/lib/python3.11/site-packages (from imbalanced-learn->imblearn) (1.3.2)\n",
                        "Requirement already satisfied: joblib>=1.1.1 in /home/vscode/.local/lib/python3.11/site-packages (from imbalanced-learn->imblearn) (1.3.2)\n",
                        "Requirement already satisfied: threadpoolctl>=2.0.0 in /home/vscode/.local/lib/python3.11/site-packages (from imbalanced-learn->imblearn) (3.2.0)\n",
                        "\n",
                        "\u001b[1m[\u001b[0m\u001b[34;49mnotice\u001b[0m\u001b[1;39;49m]\u001b[0m\u001b[39;49m A new release of pip is available: \u001b[0m\u001b[31;49m23.1.2\u001b[0m\u001b[39;49m -> \u001b[0m\u001b[32;49m23.3.1\u001b[0m\n",
                        "\u001b[1m[\u001b[0m\u001b[34;49mnotice\u001b[0m\u001b[1;39;49m]\u001b[0m\u001b[39;49m To update, run: \u001b[0m\u001b[32;49mpip install --upgrade pip\u001b[0m\n"
                    ]
                }
            ],
            "source": [
                "!pip install imblearn"
            ]
        },
        {
            "cell_type": "code",
            "execution_count": 451,
            "metadata": {},
            "outputs": [],
            "source": [
                "import pandas as pd\n",
                "import numpy as np\n",
                "from sklearn.metrics import *\n",
                "from imblearn.metrics import specificity_score\n"
            ]
        },
        {
            "cell_type": "code",
            "execution_count": 452,
            "metadata": {},
            "outputs": [
                {
                    "data": {
                        "text/html": [
                            "<div>\n",
                            "<style scoped>\n",
                            "    .dataframe tbody tr th:only-of-type {\n",
                            "        vertical-align: middle;\n",
                            "    }\n",
                            "\n",
                            "    .dataframe tbody tr th {\n",
                            "        vertical-align: top;\n",
                            "    }\n",
                            "\n",
                            "    .dataframe thead th {\n",
                            "        text-align: right;\n",
                            "    }\n",
                            "</style>\n",
                            "<table border=\"1\" class=\"dataframe\">\n",
                            "  <thead>\n",
                            "    <tr style=\"text-align: right;\">\n",
                            "      <th></th>\n",
                            "      <th>Pregnancies</th>\n",
                            "      <th>Glucose</th>\n",
                            "      <th>BloodPressure</th>\n",
                            "      <th>SkinThickness</th>\n",
                            "      <th>Insulin</th>\n",
                            "      <th>BMI</th>\n",
                            "      <th>DiabetesPedigreeFunction</th>\n",
                            "      <th>Age</th>\n",
                            "      <th>Outcome</th>\n",
                            "    </tr>\n",
                            "  </thead>\n",
                            "  <tbody>\n",
                            "    <tr>\n",
                            "      <th>0</th>\n",
                            "      <td>6</td>\n",
                            "      <td>148</td>\n",
                            "      <td>72</td>\n",
                            "      <td>35</td>\n",
                            "      <td>0</td>\n",
                            "      <td>33.6</td>\n",
                            "      <td>0.627</td>\n",
                            "      <td>50</td>\n",
                            "      <td>1</td>\n",
                            "    </tr>\n",
                            "    <tr>\n",
                            "      <th>1</th>\n",
                            "      <td>1</td>\n",
                            "      <td>85</td>\n",
                            "      <td>66</td>\n",
                            "      <td>29</td>\n",
                            "      <td>0</td>\n",
                            "      <td>26.6</td>\n",
                            "      <td>0.351</td>\n",
                            "      <td>31</td>\n",
                            "      <td>0</td>\n",
                            "    </tr>\n",
                            "    <tr>\n",
                            "      <th>2</th>\n",
                            "      <td>8</td>\n",
                            "      <td>183</td>\n",
                            "      <td>64</td>\n",
                            "      <td>0</td>\n",
                            "      <td>0</td>\n",
                            "      <td>23.3</td>\n",
                            "      <td>0.672</td>\n",
                            "      <td>32</td>\n",
                            "      <td>1</td>\n",
                            "    </tr>\n",
                            "    <tr>\n",
                            "      <th>3</th>\n",
                            "      <td>1</td>\n",
                            "      <td>89</td>\n",
                            "      <td>66</td>\n",
                            "      <td>23</td>\n",
                            "      <td>94</td>\n",
                            "      <td>28.1</td>\n",
                            "      <td>0.167</td>\n",
                            "      <td>21</td>\n",
                            "      <td>0</td>\n",
                            "    </tr>\n",
                            "    <tr>\n",
                            "      <th>4</th>\n",
                            "      <td>0</td>\n",
                            "      <td>137</td>\n",
                            "      <td>40</td>\n",
                            "      <td>35</td>\n",
                            "      <td>168</td>\n",
                            "      <td>43.1</td>\n",
                            "      <td>2.288</td>\n",
                            "      <td>33</td>\n",
                            "      <td>1</td>\n",
                            "    </tr>\n",
                            "    <tr>\n",
                            "      <th>...</th>\n",
                            "      <td>...</td>\n",
                            "      <td>...</td>\n",
                            "      <td>...</td>\n",
                            "      <td>...</td>\n",
                            "      <td>...</td>\n",
                            "      <td>...</td>\n",
                            "      <td>...</td>\n",
                            "      <td>...</td>\n",
                            "      <td>...</td>\n",
                            "    </tr>\n",
                            "    <tr>\n",
                            "      <th>763</th>\n",
                            "      <td>10</td>\n",
                            "      <td>101</td>\n",
                            "      <td>76</td>\n",
                            "      <td>48</td>\n",
                            "      <td>180</td>\n",
                            "      <td>32.9</td>\n",
                            "      <td>0.171</td>\n",
                            "      <td>63</td>\n",
                            "      <td>0</td>\n",
                            "    </tr>\n",
                            "    <tr>\n",
                            "      <th>764</th>\n",
                            "      <td>2</td>\n",
                            "      <td>122</td>\n",
                            "      <td>70</td>\n",
                            "      <td>27</td>\n",
                            "      <td>0</td>\n",
                            "      <td>36.8</td>\n",
                            "      <td>0.340</td>\n",
                            "      <td>27</td>\n",
                            "      <td>0</td>\n",
                            "    </tr>\n",
                            "    <tr>\n",
                            "      <th>765</th>\n",
                            "      <td>5</td>\n",
                            "      <td>121</td>\n",
                            "      <td>72</td>\n",
                            "      <td>23</td>\n",
                            "      <td>112</td>\n",
                            "      <td>26.2</td>\n",
                            "      <td>0.245</td>\n",
                            "      <td>30</td>\n",
                            "      <td>0</td>\n",
                            "    </tr>\n",
                            "    <tr>\n",
                            "      <th>766</th>\n",
                            "      <td>1</td>\n",
                            "      <td>126</td>\n",
                            "      <td>60</td>\n",
                            "      <td>0</td>\n",
                            "      <td>0</td>\n",
                            "      <td>30.1</td>\n",
                            "      <td>0.349</td>\n",
                            "      <td>47</td>\n",
                            "      <td>1</td>\n",
                            "    </tr>\n",
                            "    <tr>\n",
                            "      <th>767</th>\n",
                            "      <td>1</td>\n",
                            "      <td>93</td>\n",
                            "      <td>70</td>\n",
                            "      <td>31</td>\n",
                            "      <td>0</td>\n",
                            "      <td>30.4</td>\n",
                            "      <td>0.315</td>\n",
                            "      <td>23</td>\n",
                            "      <td>0</td>\n",
                            "    </tr>\n",
                            "  </tbody>\n",
                            "</table>\n",
                            "<p>768 rows × 9 columns</p>\n",
                            "</div>"
                        ],
                        "text/plain": [
                            "     Pregnancies  Glucose  BloodPressure  SkinThickness  Insulin   BMI  \\\n",
                            "0              6      148             72             35        0  33.6   \n",
                            "1              1       85             66             29        0  26.6   \n",
                            "2              8      183             64              0        0  23.3   \n",
                            "3              1       89             66             23       94  28.1   \n",
                            "4              0      137             40             35      168  43.1   \n",
                            "..           ...      ...            ...            ...      ...   ...   \n",
                            "763           10      101             76             48      180  32.9   \n",
                            "764            2      122             70             27        0  36.8   \n",
                            "765            5      121             72             23      112  26.2   \n",
                            "766            1      126             60              0        0  30.1   \n",
                            "767            1       93             70             31        0  30.4   \n",
                            "\n",
                            "     DiabetesPedigreeFunction  Age  Outcome  \n",
                            "0                       0.627   50        1  \n",
                            "1                       0.351   31        0  \n",
                            "2                       0.672   32        1  \n",
                            "3                       0.167   21        0  \n",
                            "4                       2.288   33        1  \n",
                            "..                        ...  ...      ...  \n",
                            "763                     0.171   63        0  \n",
                            "764                     0.340   27        0  \n",
                            "765                     0.245   30        0  \n",
                            "766                     0.349   47        1  \n",
                            "767                     0.315   23        0  \n",
                            "\n",
                            "[768 rows x 9 columns]"
                        ]
                    },
                    "execution_count": 452,
                    "metadata": {},
                    "output_type": "execute_result"
                }
            ],
            "source": [
                "df = pd.read_csv('https://raw.githubusercontent.com/4GeeksAcademy/decision-tree-project-tutorial/main/diabetes.csv')\n",
                "pd.set_option('display.max_columns', None)\n",
                "df"
            ]
        },
        {
            "cell_type": "markdown",
            "metadata": {},
            "source": [
                "Boosting para Clasificación"
            ]
        },
        {
            "cell_type": "code",
            "execution_count": 453,
            "metadata": {},
            "outputs": [],
            "source": [
                "from sklearn.model_selection import train_test_split\n",
                "\n",
                "X = df.drop(\"Outcome\", axis = 1)\n",
                "y = df[\"Outcome\"]\n",
                "X_train, X_test, y_train, y_test = train_test_split(X,y, test_size = 0.2, random_state = 42)"
            ]
        },
        {
            "cell_type": "code",
            "execution_count": 454,
            "metadata": {},
            "outputs": [
                {
                    "data": {
                        "text/html": [
                            "<style>#sk-container-id-66 {color: black;}#sk-container-id-66 pre{padding: 0;}#sk-container-id-66 div.sk-toggleable {background-color: white;}#sk-container-id-66 label.sk-toggleable__label {cursor: pointer;display: block;width: 100%;margin-bottom: 0;padding: 0.3em;box-sizing: border-box;text-align: center;}#sk-container-id-66 label.sk-toggleable__label-arrow:before {content: \"▸\";float: left;margin-right: 0.25em;color: #696969;}#sk-container-id-66 label.sk-toggleable__label-arrow:hover:before {color: black;}#sk-container-id-66 div.sk-estimator:hover label.sk-toggleable__label-arrow:before {color: black;}#sk-container-id-66 div.sk-toggleable__content {max-height: 0;max-width: 0;overflow: hidden;text-align: left;background-color: #f0f8ff;}#sk-container-id-66 div.sk-toggleable__content pre {margin: 0.2em;color: black;border-radius: 0.25em;background-color: #f0f8ff;}#sk-container-id-66 input.sk-toggleable__control:checked~div.sk-toggleable__content {max-height: 200px;max-width: 100%;overflow: auto;}#sk-container-id-66 input.sk-toggleable__control:checked~label.sk-toggleable__label-arrow:before {content: \"▾\";}#sk-container-id-66 div.sk-estimator input.sk-toggleable__control:checked~label.sk-toggleable__label {background-color: #d4ebff;}#sk-container-id-66 div.sk-label input.sk-toggleable__control:checked~label.sk-toggleable__label {background-color: #d4ebff;}#sk-container-id-66 input.sk-hidden--visually {border: 0;clip: rect(1px 1px 1px 1px);clip: rect(1px, 1px, 1px, 1px);height: 1px;margin: -1px;overflow: hidden;padding: 0;position: absolute;width: 1px;}#sk-container-id-66 div.sk-estimator {font-family: monospace;background-color: #f0f8ff;border: 1px dotted black;border-radius: 0.25em;box-sizing: border-box;margin-bottom: 0.5em;}#sk-container-id-66 div.sk-estimator:hover {background-color: #d4ebff;}#sk-container-id-66 div.sk-parallel-item::after {content: \"\";width: 100%;border-bottom: 1px solid gray;flex-grow: 1;}#sk-container-id-66 div.sk-label:hover label.sk-toggleable__label {background-color: #d4ebff;}#sk-container-id-66 div.sk-serial::before {content: \"\";position: absolute;border-left: 1px solid gray;box-sizing: border-box;top: 0;bottom: 0;left: 50%;z-index: 0;}#sk-container-id-66 div.sk-serial {display: flex;flex-direction: column;align-items: center;background-color: white;padding-right: 0.2em;padding-left: 0.2em;position: relative;}#sk-container-id-66 div.sk-item {position: relative;z-index: 1;}#sk-container-id-66 div.sk-parallel {display: flex;align-items: stretch;justify-content: center;background-color: white;position: relative;}#sk-container-id-66 div.sk-item::before, #sk-container-id-66 div.sk-parallel-item::before {content: \"\";position: absolute;border-left: 1px solid gray;box-sizing: border-box;top: 0;bottom: 0;left: 50%;z-index: -1;}#sk-container-id-66 div.sk-parallel-item {display: flex;flex-direction: column;z-index: 1;position: relative;background-color: white;}#sk-container-id-66 div.sk-parallel-item:first-child::after {align-self: flex-end;width: 50%;}#sk-container-id-66 div.sk-parallel-item:last-child::after {align-self: flex-start;width: 50%;}#sk-container-id-66 div.sk-parallel-item:only-child::after {width: 0;}#sk-container-id-66 div.sk-dashed-wrapped {border: 1px dashed gray;margin: 0 0.4em 0.5em 0.4em;box-sizing: border-box;padding-bottom: 0.4em;background-color: white;}#sk-container-id-66 div.sk-label label {font-family: monospace;font-weight: bold;display: inline-block;line-height: 1.2em;}#sk-container-id-66 div.sk-label-container {text-align: center;}#sk-container-id-66 div.sk-container {/* jupyter's `normalize.less` sets `[hidden] { display: none; }` but bootstrap.min.css set `[hidden] { display: none !important; }` so we also need the `!important` here to be able to override the default hidden behavior on the sphinx rendered scikit-learn.org. See: https://github.com/scikit-learn/scikit-learn/issues/21755 */display: inline-block !important;position: relative;}#sk-container-id-66 div.sk-text-repr-fallback {display: none;}</style><div id=\"sk-container-id-66\" class=\"sk-top-container\"><div class=\"sk-text-repr-fallback\"><pre>XGBClassifier(base_score=None, booster=None, callbacks=None,\n",
                            "              colsample_bylevel=None, colsample_bynode=None,\n",
                            "              colsample_bytree=None, device=None, early_stopping_rounds=None,\n",
                            "              enable_categorical=False, eval_metric=None, feature_types=None,\n",
                            "              gamma=None, grow_policy=None, importance_type=None,\n",
                            "              interaction_constraints=None, learning_rate=None, max_bin=None,\n",
                            "              max_cat_threshold=None, max_cat_to_onehot=None,\n",
                            "              max_delta_step=None, max_depth=None, max_leaves=None,\n",
                            "              min_child_weight=None, missing=nan, monotone_constraints=None,\n",
                            "              multi_strategy=None, n_estimators=200, n_jobs=None,\n",
                            "              num_parallel_tree=None, random_state=42, ...)</pre><b>In a Jupyter environment, please rerun this cell to show the HTML representation or trust the notebook. <br />On GitHub, the HTML representation is unable to render, please try loading this page with nbviewer.org.</b></div><div class=\"sk-container\" hidden><div class=\"sk-item\"><div class=\"sk-estimator sk-toggleable\"><input class=\"sk-toggleable__control sk-hidden--visually\" id=\"sk-estimator-id-66\" type=\"checkbox\" checked><label for=\"sk-estimator-id-66\" class=\"sk-toggleable__label sk-toggleable__label-arrow\">XGBClassifier</label><div class=\"sk-toggleable__content\"><pre>XGBClassifier(base_score=None, booster=None, callbacks=None,\n",
                            "              colsample_bylevel=None, colsample_bynode=None,\n",
                            "              colsample_bytree=None, device=None, early_stopping_rounds=None,\n",
                            "              enable_categorical=False, eval_metric=None, feature_types=None,\n",
                            "              gamma=None, grow_policy=None, importance_type=None,\n",
                            "              interaction_constraints=None, learning_rate=None, max_bin=None,\n",
                            "              max_cat_threshold=None, max_cat_to_onehot=None,\n",
                            "              max_delta_step=None, max_depth=None, max_leaves=None,\n",
                            "              min_child_weight=None, missing=nan, monotone_constraints=None,\n",
                            "              multi_strategy=None, n_estimators=200, n_jobs=None,\n",
                            "              num_parallel_tree=None, random_state=42, ...)</pre></div></div></div></div></div>"
                        ],
                        "text/plain": [
                            "XGBClassifier(base_score=None, booster=None, callbacks=None,\n",
                            "              colsample_bylevel=None, colsample_bynode=None,\n",
                            "              colsample_bytree=None, device=None, early_stopping_rounds=None,\n",
                            "              enable_categorical=False, eval_metric=None, feature_types=None,\n",
                            "              gamma=None, grow_policy=None, importance_type=None,\n",
                            "              interaction_constraints=None, learning_rate=None, max_bin=None,\n",
                            "              max_cat_threshold=None, max_cat_to_onehot=None,\n",
                            "              max_delta_step=None, max_depth=None, max_leaves=None,\n",
                            "              min_child_weight=None, missing=nan, monotone_constraints=None,\n",
                            "              multi_strategy=None, n_estimators=200, n_jobs=None,\n",
                            "              num_parallel_tree=None, random_state=42, ...)"
                        ]
                    },
                    "execution_count": 454,
                    "metadata": {},
                    "output_type": "execute_result"
                }
            ],
            "source": [
                "from xgboost import XGBClassifier\n",
                "\n",
                "model = XGBClassifier(n_estimators = 200, random_state = 42)\n",
                "model.fit(X_train, y_train)"
            ]
        },
        {
            "cell_type": "markdown",
            "metadata": {},
            "source": [
                "PREDICCIÓN DEL MODELO"
            ]
        },
        {
            "cell_type": "code",
            "execution_count": 455,
            "metadata": {},
            "outputs": [
                {
                    "data": {
                        "text/plain": [
                            "array([1, 0, 0, 0, 1, 1, 0, 1, 1, 1, 0, 1, 0, 0, 0, 1, 0, 0, 1, 0, 0, 0,\n",
                            "       0, 0, 0, 1, 0, 0, 0, 0, 1, 1, 1, 1, 1, 1, 1, 0, 0, 1, 0, 0, 1, 0,\n",
                            "       0, 1, 1, 0, 0, 1, 0, 1, 1, 0, 0, 0, 1, 0, 0, 1, 1, 0, 0, 0, 0, 1,\n",
                            "       0, 1, 0, 1, 1, 0, 0, 0, 0, 0, 0, 0, 0, 0, 1, 0, 0, 0, 1, 1, 1, 0,\n",
                            "       0, 0, 0, 0, 0, 1, 1, 1, 1, 0, 1, 0, 1, 0, 1, 1, 1, 0, 0, 1, 0, 1,\n",
                            "       0, 1, 0, 1, 1, 1, 1, 1, 0, 1, 0, 0, 0, 0, 0, 0, 0, 1, 1, 1, 1, 0,\n",
                            "       0, 0, 1, 0, 0, 1, 1, 0, 0, 0, 0, 0, 0, 1, 0, 0, 0, 1, 0, 0, 0, 0])"
                        ]
                    },
                    "execution_count": 455,
                    "metadata": {},
                    "output_type": "execute_result"
                }
            ],
            "source": [
                "y_pred = model.predict(X_test)\n",
                "y_pred"
            ]
        },
        {
            "cell_type": "code",
            "execution_count": 456,
            "metadata": {},
            "outputs": [
                {
                    "data": {
                        "text/plain": [
                            "0.7077922077922078"
                        ]
                    },
                    "execution_count": 456,
                    "metadata": {},
                    "output_type": "execute_result"
                }
            ],
            "source": [
                "from sklearn.metrics import accuracy_score\n",
                "\n",
                "accuracy_score(y_test, y_pred)"
            ]
        },
        {
            "cell_type": "code",
            "execution_count": 457,
            "metadata": {},
            "outputs": [],
            "source": [
                "def get_metrics(y_train, y_test, y_pred_train, y_pred_test):\n",
                "    # Calcular métricas para el conjunto de entrenamiento\n",
                "    train_accuracy = accuracy_score(y_train, y_pred_train)\n",
                "    train_f1 = f1_score(y_train, y_pred_train)\n",
                "    train_auc = roc_auc_score(y_train, y_pred_train)\n",
                "    train_precision = precision_score(y_train, y_pred_train)\n",
                "    train_recall = recall_score(y_train, y_pred_train)\n",
                "    train_specificity = specificity_score(y_train, y_pred_train)\n",
                "\n",
                "    # Calcular métricas para el conjunto de prueba\n",
                "    test_accuracy = accuracy_score(y_test, y_pred_test)\n",
                "    test_f1 = f1_score(y_test, y_pred_test)\n",
                "    test_auc = roc_auc_score(y_test, y_pred_test)\n",
                "    test_precision = precision_score(y_test, y_pred_test)\n",
                "    test_recall = recall_score(y_test, y_pred_test)\n",
                "    test_specificity = specificity_score(y_test, y_pred_test)\n",
                "\n",
                "    # Calcular la diferencia entre métricas de entrenamiento y prueba\n",
                "    diff_accuracy = train_accuracy - test_accuracy\n",
                "    diff_f1 = train_f1 - test_f1\n",
                "    diff_auc = train_auc - test_auc\n",
                "    diff_precision = train_precision - test_precision\n",
                "    diff_recall = train_recall - test_recall\n",
                "    diff_specificity = train_specificity - test_specificity\n",
                "\n",
                "    # Crear un DataFrame con los resultados\n",
                "    metrics_df = pd.DataFrame([[train_accuracy, train_f1, train_auc, train_precision, train_recall, train_specificity],[test_accuracy, test_f1, test_auc, test_precision, test_recall, test_specificity],[diff_accuracy, diff_f1, diff_auc, diff_precision, diff_recall, diff_specificity]],\n",
                "                              columns = ['Accuracy', 'F1', 'AUC', 'Precision', 'Recall', 'Specificity'],\n",
                "                              index = ['Train','Test', 'Diferencia'])\n",
                "\n",
                "    return metrics_df"
            ]
        },
        {
            "cell_type": "code",
            "execution_count": 458,
            "metadata": {},
            "outputs": [],
            "source": [
                "# Evaluar el modelo  en entrenamiento y prueba\n",
                "train_pred = model.predict(X_train)\n",
                "test_pred = model.predict(X_test)"
            ]
        },
        {
            "cell_type": "code",
            "execution_count": 459,
            "metadata": {},
            "outputs": [
                {
                    "data": {
                        "text/html": [
                            "<div>\n",
                            "<style scoped>\n",
                            "    .dataframe tbody tr th:only-of-type {\n",
                            "        vertical-align: middle;\n",
                            "    }\n",
                            "\n",
                            "    .dataframe tbody tr th {\n",
                            "        vertical-align: top;\n",
                            "    }\n",
                            "\n",
                            "    .dataframe thead th {\n",
                            "        text-align: right;\n",
                            "    }\n",
                            "</style>\n",
                            "<table border=\"1\" class=\"dataframe\">\n",
                            "  <thead>\n",
                            "    <tr style=\"text-align: right;\">\n",
                            "      <th></th>\n",
                            "      <th>Accuracy</th>\n",
                            "      <th>F1</th>\n",
                            "      <th>AUC</th>\n",
                            "      <th>Precision</th>\n",
                            "      <th>Recall</th>\n",
                            "      <th>Specificity</th>\n",
                            "    </tr>\n",
                            "  </thead>\n",
                            "  <tbody>\n",
                            "    <tr>\n",
                            "      <th>Train</th>\n",
                            "      <td>1.000000</td>\n",
                            "      <td>1.000000</td>\n",
                            "      <td>1.00000</td>\n",
                            "      <td>1.000000</td>\n",
                            "      <td>1.000000</td>\n",
                            "      <td>1.000000</td>\n",
                            "    </tr>\n",
                            "    <tr>\n",
                            "      <th>Test</th>\n",
                            "      <td>0.707792</td>\n",
                            "      <td>0.615385</td>\n",
                            "      <td>0.69596</td>\n",
                            "      <td>0.580645</td>\n",
                            "      <td>0.654545</td>\n",
                            "      <td>0.737374</td>\n",
                            "    </tr>\n",
                            "    <tr>\n",
                            "      <th>Diferencia</th>\n",
                            "      <td>0.292208</td>\n",
                            "      <td>0.384615</td>\n",
                            "      <td>0.30404</td>\n",
                            "      <td>0.419355</td>\n",
                            "      <td>0.345455</td>\n",
                            "      <td>0.262626</td>\n",
                            "    </tr>\n",
                            "  </tbody>\n",
                            "</table>\n",
                            "</div>"
                        ],
                        "text/plain": [
                            "            Accuracy        F1      AUC  Precision    Recall  Specificity\n",
                            "Train       1.000000  1.000000  1.00000   1.000000  1.000000     1.000000\n",
                            "Test        0.707792  0.615385  0.69596   0.580645  0.654545     0.737374\n",
                            "Diferencia  0.292208  0.384615  0.30404   0.419355  0.345455     0.262626"
                        ]
                    },
                    "execution_count": 459,
                    "metadata": {},
                    "output_type": "execute_result"
                }
            ],
            "source": [
                "# Métricas del modelo complejo\n",
                "get_metrics(y_train, y_test, train_pred, test_pred)"
            ]
        },
        {
            "cell_type": "code",
            "execution_count": 460,
            "metadata": {},
            "outputs": [
                {
                    "data": {
                        "text/html": [
                            "<style>#sk-container-id-67 {color: black;}#sk-container-id-67 pre{padding: 0;}#sk-container-id-67 div.sk-toggleable {background-color: white;}#sk-container-id-67 label.sk-toggleable__label {cursor: pointer;display: block;width: 100%;margin-bottom: 0;padding: 0.3em;box-sizing: border-box;text-align: center;}#sk-container-id-67 label.sk-toggleable__label-arrow:before {content: \"▸\";float: left;margin-right: 0.25em;color: #696969;}#sk-container-id-67 label.sk-toggleable__label-arrow:hover:before {color: black;}#sk-container-id-67 div.sk-estimator:hover label.sk-toggleable__label-arrow:before {color: black;}#sk-container-id-67 div.sk-toggleable__content {max-height: 0;max-width: 0;overflow: hidden;text-align: left;background-color: #f0f8ff;}#sk-container-id-67 div.sk-toggleable__content pre {margin: 0.2em;color: black;border-radius: 0.25em;background-color: #f0f8ff;}#sk-container-id-67 input.sk-toggleable__control:checked~div.sk-toggleable__content {max-height: 200px;max-width: 100%;overflow: auto;}#sk-container-id-67 input.sk-toggleable__control:checked~label.sk-toggleable__label-arrow:before {content: \"▾\";}#sk-container-id-67 div.sk-estimator input.sk-toggleable__control:checked~label.sk-toggleable__label {background-color: #d4ebff;}#sk-container-id-67 div.sk-label input.sk-toggleable__control:checked~label.sk-toggleable__label {background-color: #d4ebff;}#sk-container-id-67 input.sk-hidden--visually {border: 0;clip: rect(1px 1px 1px 1px);clip: rect(1px, 1px, 1px, 1px);height: 1px;margin: -1px;overflow: hidden;padding: 0;position: absolute;width: 1px;}#sk-container-id-67 div.sk-estimator {font-family: monospace;background-color: #f0f8ff;border: 1px dotted black;border-radius: 0.25em;box-sizing: border-box;margin-bottom: 0.5em;}#sk-container-id-67 div.sk-estimator:hover {background-color: #d4ebff;}#sk-container-id-67 div.sk-parallel-item::after {content: \"\";width: 100%;border-bottom: 1px solid gray;flex-grow: 1;}#sk-container-id-67 div.sk-label:hover label.sk-toggleable__label {background-color: #d4ebff;}#sk-container-id-67 div.sk-serial::before {content: \"\";position: absolute;border-left: 1px solid gray;box-sizing: border-box;top: 0;bottom: 0;left: 50%;z-index: 0;}#sk-container-id-67 div.sk-serial {display: flex;flex-direction: column;align-items: center;background-color: white;padding-right: 0.2em;padding-left: 0.2em;position: relative;}#sk-container-id-67 div.sk-item {position: relative;z-index: 1;}#sk-container-id-67 div.sk-parallel {display: flex;align-items: stretch;justify-content: center;background-color: white;position: relative;}#sk-container-id-67 div.sk-item::before, #sk-container-id-67 div.sk-parallel-item::before {content: \"\";position: absolute;border-left: 1px solid gray;box-sizing: border-box;top: 0;bottom: 0;left: 50%;z-index: -1;}#sk-container-id-67 div.sk-parallel-item {display: flex;flex-direction: column;z-index: 1;position: relative;background-color: white;}#sk-container-id-67 div.sk-parallel-item:first-child::after {align-self: flex-end;width: 50%;}#sk-container-id-67 div.sk-parallel-item:last-child::after {align-self: flex-start;width: 50%;}#sk-container-id-67 div.sk-parallel-item:only-child::after {width: 0;}#sk-container-id-67 div.sk-dashed-wrapped {border: 1px dashed gray;margin: 0 0.4em 0.5em 0.4em;box-sizing: border-box;padding-bottom: 0.4em;background-color: white;}#sk-container-id-67 div.sk-label label {font-family: monospace;font-weight: bold;display: inline-block;line-height: 1.2em;}#sk-container-id-67 div.sk-label-container {text-align: center;}#sk-container-id-67 div.sk-container {/* jupyter's `normalize.less` sets `[hidden] { display: none; }` but bootstrap.min.css set `[hidden] { display: none !important; }` so we also need the `!important` here to be able to override the default hidden behavior on the sphinx rendered scikit-learn.org. See: https://github.com/scikit-learn/scikit-learn/issues/21755 */display: inline-block !important;position: relative;}#sk-container-id-67 div.sk-text-repr-fallback {display: none;}</style><div id=\"sk-container-id-67\" class=\"sk-top-container\"><div class=\"sk-text-repr-fallback\"><pre>XGBClassifier(base_score=None, booster=None, callbacks=None,\n",
                            "              colsample_bylevel=None, colsample_bynode=None,\n",
                            "              colsample_bytree=None, device=None, early_stopping_rounds=None,\n",
                            "              enable_categorical=False, eval_metric=None, feature_types=None,\n",
                            "              gamma=5, grow_policy=None, importance_type=None,\n",
                            "              interaction_constraints=None, learning_rate=0.01, max_bin=None,\n",
                            "              max_cat_threshold=None, max_cat_to_onehot=None,\n",
                            "              max_delta_step=None, max_depth=None, max_leaves=None,\n",
                            "              min_child_weight=None, missing=nan, monotone_constraints=None,\n",
                            "              multi_strategy=None, n_estimators=100, n_jobs=None,\n",
                            "              num_parallel_tree=None, random_state=42, ...)</pre><b>In a Jupyter environment, please rerun this cell to show the HTML representation or trust the notebook. <br />On GitHub, the HTML representation is unable to render, please try loading this page with nbviewer.org.</b></div><div class=\"sk-container\" hidden><div class=\"sk-item\"><div class=\"sk-estimator sk-toggleable\"><input class=\"sk-toggleable__control sk-hidden--visually\" id=\"sk-estimator-id-67\" type=\"checkbox\" checked><label for=\"sk-estimator-id-67\" class=\"sk-toggleable__label sk-toggleable__label-arrow\">XGBClassifier</label><div class=\"sk-toggleable__content\"><pre>XGBClassifier(base_score=None, booster=None, callbacks=None,\n",
                            "              colsample_bylevel=None, colsample_bynode=None,\n",
                            "              colsample_bytree=None, device=None, early_stopping_rounds=None,\n",
                            "              enable_categorical=False, eval_metric=None, feature_types=None,\n",
                            "              gamma=5, grow_policy=None, importance_type=None,\n",
                            "              interaction_constraints=None, learning_rate=0.01, max_bin=None,\n",
                            "              max_cat_threshold=None, max_cat_to_onehot=None,\n",
                            "              max_delta_step=None, max_depth=None, max_leaves=None,\n",
                            "              min_child_weight=None, missing=nan, monotone_constraints=None,\n",
                            "              multi_strategy=None, n_estimators=100, n_jobs=None,\n",
                            "              num_parallel_tree=None, random_state=42, ...)</pre></div></div></div></div></div>"
                        ],
                        "text/plain": [
                            "XGBClassifier(base_score=None, booster=None, callbacks=None,\n",
                            "              colsample_bylevel=None, colsample_bynode=None,\n",
                            "              colsample_bytree=None, device=None, early_stopping_rounds=None,\n",
                            "              enable_categorical=False, eval_metric=None, feature_types=None,\n",
                            "              gamma=5, grow_policy=None, importance_type=None,\n",
                            "              interaction_constraints=None, learning_rate=0.01, max_bin=None,\n",
                            "              max_cat_threshold=None, max_cat_to_onehot=None,\n",
                            "              max_delta_step=None, max_depth=None, max_leaves=None,\n",
                            "              min_child_weight=None, missing=nan, monotone_constraints=None,\n",
                            "              multi_strategy=None, n_estimators=100, n_jobs=None,\n",
                            "              num_parallel_tree=None, random_state=42, ...)"
                        ]
                    },
                    "execution_count": 460,
                    "metadata": {},
                    "output_type": "execute_result"
                }
            ],
            "source": [
                "model_2 = XGBClassifier(n_estimators = 100, learning_rate = 0.01, gamma=5 ,max_depth=None,random_state = 42)\n",
                "model_2.fit(X_train, y_train)"
            ]
        },
        {
            "cell_type": "markdown",
            "metadata": {},
            "source": [
                "PREDICCION DEL MODELO_2"
            ]
        },
        {
            "cell_type": "code",
            "execution_count": 461,
            "metadata": {},
            "outputs": [
                {
                    "data": {
                        "text/plain": [
                            "array([0, 0, 0, 0, 0, 0, 0, 1, 1, 1, 0, 1, 0, 0, 0, 0, 0, 0, 1, 0, 0, 0,\n",
                            "       0, 0, 1, 1, 0, 0, 0, 0, 1, 1, 1, 1, 0, 1, 1, 0, 0, 1, 0, 0, 0, 0,\n",
                            "       0, 1, 0, 0, 0, 1, 0, 1, 1, 0, 0, 0, 0, 0, 0, 1, 1, 0, 0, 0, 0, 0,\n",
                            "       0, 1, 0, 1, 1, 0, 0, 0, 0, 0, 0, 0, 0, 0, 1, 0, 0, 0, 0, 1, 1, 0,\n",
                            "       0, 0, 0, 0, 0, 0, 0, 1, 0, 0, 1, 0, 1, 0, 1, 0, 1, 0, 0, 1, 0, 1,\n",
                            "       0, 1, 0, 1, 0, 0, 1, 0, 0, 0, 0, 0, 0, 0, 0, 0, 0, 1, 1, 1, 1, 1,\n",
                            "       0, 0, 1, 0, 0, 1, 1, 0, 0, 0, 0, 0, 0, 0, 0, 0, 0, 1, 0, 0, 0, 0])"
                        ]
                    },
                    "execution_count": 461,
                    "metadata": {},
                    "output_type": "execute_result"
                }
            ],
            "source": [
                "y_pred= model_2.predict(X_test)\n",
                "y_pred"
            ]
        },
        {
            "cell_type": "code",
            "execution_count": 462,
            "metadata": {},
            "outputs": [
                {
                    "data": {
                        "text/plain": [
                            "0.7922077922077922"
                        ]
                    },
                    "execution_count": 462,
                    "metadata": {},
                    "output_type": "execute_result"
                }
            ],
            "source": [
                "accuracy_score(y_test, y_pred)"
            ]
        },
        {
            "cell_type": "code",
            "execution_count": 463,
            "metadata": {},
            "outputs": [],
            "source": [
                "# Evaluar el modelo_2  en entrenamiento y prueba\n",
                "train_pred_op = model_2.predict(X_train)\n",
                "test_pred_op = model_2.predict(X_test)"
            ]
        },
        {
            "cell_type": "code",
            "execution_count": 464,
            "metadata": {},
            "outputs": [
                {
                    "data": {
                        "text/html": [
                            "<div>\n",
                            "<style scoped>\n",
                            "    .dataframe tbody tr th:only-of-type {\n",
                            "        vertical-align: middle;\n",
                            "    }\n",
                            "\n",
                            "    .dataframe tbody tr th {\n",
                            "        vertical-align: top;\n",
                            "    }\n",
                            "\n",
                            "    .dataframe thead th {\n",
                            "        text-align: right;\n",
                            "    }\n",
                            "</style>\n",
                            "<table border=\"1\" class=\"dataframe\">\n",
                            "  <thead>\n",
                            "    <tr style=\"text-align: right;\">\n",
                            "      <th></th>\n",
                            "      <th>Accuracy</th>\n",
                            "      <th>F1</th>\n",
                            "      <th>AUC</th>\n",
                            "      <th>Precision</th>\n",
                            "      <th>Recall</th>\n",
                            "      <th>Specificity</th>\n",
                            "    </tr>\n",
                            "  </thead>\n",
                            "  <tbody>\n",
                            "    <tr>\n",
                            "      <th>Train</th>\n",
                            "      <td>0.807818</td>\n",
                            "      <td>0.666667</td>\n",
                            "      <td>0.748317</td>\n",
                            "      <td>0.836879</td>\n",
                            "      <td>0.553991</td>\n",
                            "      <td>0.942643</td>\n",
                            "    </tr>\n",
                            "    <tr>\n",
                            "      <th>Test</th>\n",
                            "      <td>0.792208</td>\n",
                            "      <td>0.680000</td>\n",
                            "      <td>0.753535</td>\n",
                            "      <td>0.755556</td>\n",
                            "      <td>0.618182</td>\n",
                            "      <td>0.888889</td>\n",
                            "    </tr>\n",
                            "    <tr>\n",
                            "      <th>Diferencia</th>\n",
                            "      <td>0.015610</td>\n",
                            "      <td>-0.013333</td>\n",
                            "      <td>-0.005218</td>\n",
                            "      <td>0.081324</td>\n",
                            "      <td>-0.064191</td>\n",
                            "      <td>0.053755</td>\n",
                            "    </tr>\n",
                            "  </tbody>\n",
                            "</table>\n",
                            "</div>"
                        ],
                        "text/plain": [
                            "            Accuracy        F1       AUC  Precision    Recall  Specificity\n",
                            "Train       0.807818  0.666667  0.748317   0.836879  0.553991     0.942643\n",
                            "Test        0.792208  0.680000  0.753535   0.755556  0.618182     0.888889\n",
                            "Diferencia  0.015610 -0.013333 -0.005218   0.081324 -0.064191     0.053755"
                        ]
                    },
                    "execution_count": 464,
                    "metadata": {},
                    "output_type": "execute_result"
                }
            ],
            "source": [
                "# Métricas del modelo_2\n",
                "get_metrics(y_train, y_test, train_pred_op, test_pred_op)"
            ]
        },
        {
            "cell_type": "markdown",
            "metadata": {},
            "source": [
                "implementación propia de la técnica de Boosting"
            ]
        },
        {
            "cell_type": "code",
            "execution_count": 473,
            "metadata": {},
            "outputs": [],
            "source": [
                "from sklearn.tree import DecisionTreeClassifier\n",
                "\n",
                "\n",
                "class CustomBoosting:\n",
                "\n",
                "    def __init__(self, n_estimators=100, learning_rate=0.01, max_depth=10, min_samples_leaf=10, max_features=1.0, random_state=42):\n",
                "        # Inicializa el modelo con hiperparámetros personalizables\n",
                "        self.n_estimators = n_estimators  # Número de estimadores en el ensamble\n",
                "        self.learning_rate = learning_rate  # Tasa de aprendizaje\n",
                "        self.max_depth = max_depth  # Profundidad máxima de los árboles de decisión\n",
                "        self.min_samples_leaf = min_samples_leaf  # Número mínimo de muestras por hoja\n",
                "        self.max_features = max_features  # Proporción máxima de características a considerar en cada división\n",
                "        self.random_state = random_state  # Semilla aleatoria para reproducibilidad\n",
                "        self.estimadores = [] # Almacena los estimadores del ensamble\n",
                "\n",
                "    def muestreo(self, X, y, pesos):\n",
                "      # Realiza un muestreo ponderado de las instancias de entrenamiento\n",
                "      np.random.seed(self.random_state)\n",
                "      indices = np.random.choice(len(X), len(X), p=pesos)  # Selecciona posiciones del conjunto de datos con reemplazo\n",
                "      return X[indices], y[indices]\n",
                "\n",
                "    def get_error(self, y, y_pred, pesos):\n",
                "      # Calcula el error ponderado, indicando cuántas instancias se clasificaron incorrectamente en relación a sus pesos\n",
                "      instancias_erroneas = (y_pred != y)  # Identifica las instancias mal clasificadas (True/False)\n",
                "      pesos_instancias_erroneas = pesos[instancias_erroneas]  # Obtiene los pesos de las instancias erróneas\n",
                "      suma_peso_error = np.sum(pesos_instancias_erroneas)  # Suma los pesos de las instancias erróneas\n",
                "      error_ponderado = suma_peso_error / np.sum(pesos)  # Proporciona un valor entre 0 y 1\n",
                "      return instancias_erroneas, error_ponderado\n",
                "\n",
                "    def get_estimator_importance(self, error_ponderado):\n",
                "      # Calcula la importancia del estimador en el ensamble\n",
                "      ratio_acierto_error = (1 - error_ponderado) / error_ponderado  # Mide el grado de acierto del estimador (mayor valor indica más aciertos que fallos)\n",
                "      ratio_log = np.log(ratio_acierto_error)  # Aumenta el impacto de los estimadores que funcionan mejor y reduce el de los que funcionan peor\n",
                "      estimador_imp = self.learning_rate * ratio_log  # Limita el impacto de cada estimador en la predicción final (para evitar el overfitting)\n",
                "      return estimador_imp\n",
                "\n",
                "    def update_weights(self, estimador_imp, instancias_erroneas, pesos):\n",
                "      # Actualiza los pesos de las instancias para dar más importancia a las instancias mal clasificadas\n",
                "      actualizacion_pesos = estimador_imp * instancias_erroneas  # Combina la importancia del estimador con las instancias mal clasificadas\n",
                "      actualizacion_pesos = np.exp(actualizacion_pesos)  # Amplifica la influencia de las instancias erróneas en la próxima iteración\n",
                "      pesos = pesos * actualizacion_pesos  # Aplica la actualización a los pesos\n",
                "      pesos = pesos / np.sum(pesos)  # Normaliza los pesos para que sumen 1, creando una distribución de probabilidad válida\n",
                "      return pesos\n",
                "\n",
                "    def fit(self, X, y):\n",
                "      # Inicializa los pesos de las instancias, todas con el mismo peso inicial\n",
                "      pesos = np.ones(len(X)) / len(X)\n",
                "      # Realiza el entrenamiento para el número de estimadores especificado\n",
                "      for _ in range(self.n_estimators):\n",
                "          # Realiza un muestreo aleatorio de las instancias de entrenamiento\n",
                "          X_sampled, y_sampled = self.muestreo(X, y, pesos)\n",
                "          # Ajusta un estimador (árbol de decisión) con las instancias muestreadas\n",
                "          estimador = DecisionTreeClassifier(max_depth=self.max_depth, min_samples_leaf=self.min_samples_leaf, max_features=self.max_features).fit(X_sampled, y_sampled)\n",
                "          # Realiza predicciones con el estimador\n",
                "          y_pred = estimador.predict(X)\n",
                "          # Calcula la importancia del error cometido por el estimador\n",
                "          instancias_erroneas, error_ponderado = self.get_error(y, y_pred, pesos)\n",
                "          # Calcula la importancia del modelo en el ensamble\n",
                "          estimador_imp = self.get_estimator_importance(error_ponderado)\n",
                "          # Almacena el estimador y su importancia asociada\n",
                "          self.estimadores.append((estimador, estimador_imp))\n",
                "          # Actualiza los pesos de las instancias\n",
                "          pesos = self.update_weights(estimador_imp, instancias_erroneas, pesos)\n",
                "\n",
                "    def predict(self, X):\n",
                "      # Inicializa un vector de predicciones vacío con el mismo número de instancias a predecir\n",
                "      final_predictions = np.zeros(X.shape[0])\n",
                "      # Para cada estimador en el ensamble\n",
                "      for estimador, estimador_imp in self.estimadores:\n",
                "          # Realiza predicciones con las instancias\n",
                "          predictions = estimador.predict(X)\n",
                "          # Pondera las predicciones con la importancia del estimador\n",
                "          preds_ponderadas = estimador_imp * predictions\n",
                "          # Acumula las predicciones ponderadas de cada estimador\n",
                "          final_predictions = final_predictions + preds_ponderadas\n",
                "      # Realiza predicciones binarias (1 si es mayor que 0, 0 en caso contrario)\n",
                "      yhats = np.where(final_predictions > 0, 1, 0)\n",
                "      return yhats"
            ]
        },
        {
            "cell_type": "code",
            "execution_count": 466,
            "metadata": {},
            "outputs": [],
            "source": [
                "def get_metrics(y_train, y_test, y_pred_train, y_pred_test):\n",
                "    # Calcular métricas para el conjunto de entrenamiento\n",
                "    train_accuracy = accuracy_score(y_train, y_pred_train)\n",
                "    train_f1 = f1_score(y_train, y_pred_train)\n",
                "    train_auc = roc_auc_score(y_train, y_pred_train)\n",
                "    train_precision = precision_score(y_train, y_pred_train)\n",
                "    train_recall = recall_score(y_train, y_pred_train)\n",
                "    train_specificity = specificity_score(y_train, y_pred_train)\n",
                "\n",
                "    # Calcular métricas para el conjunto de prueba\n",
                "    test_accuracy = accuracy_score(y_test, y_pred_test)\n",
                "    test_f1 = f1_score(y_test, y_pred_test)\n",
                "    test_auc = roc_auc_score(y_test, y_pred_test)\n",
                "    test_precision = precision_score(y_test, y_pred_test)\n",
                "    test_recall = recall_score(y_test, y_pred_test)\n",
                "    test_specificity = specificity_score(y_test, y_pred_test)\n",
                "\n",
                "    # Calcular la diferencia entre métricas de entrenamiento y prueba\n",
                "    diff_accuracy = train_accuracy - test_accuracy\n",
                "    diff_f1 = train_f1 - test_f1\n",
                "    diff_auc = train_auc - test_auc\n",
                "    diff_precision = train_precision - test_precision\n",
                "    diff_recall = train_recall - test_recall\n",
                "    diff_specificity = train_specificity - test_specificity\n",
                "\n",
                "    # Crear un DataFrame con los resultados\n",
                "    metrics_df = pd.DataFrame([[train_accuracy, train_f1, train_auc, train_precision, train_recall, train_specificity],[test_accuracy, test_f1, test_auc, test_precision, test_recall, test_specificity],[diff_accuracy, diff_f1, diff_auc, diff_precision, diff_recall, diff_specificity]],\n",
                "                              columns = ['Accuracy', 'F1', 'AUC', 'Precision', 'Recall', 'Specificity'],\n",
                "                              index = ['Train','Test', 'Diferencia'])\n",
                "\n",
                "    return metrics_df"
            ]
        },
        {
            "cell_type": "code",
            "execution_count": 474,
            "metadata": {},
            "outputs": [],
            "source": [
                "# Entrenamos el modelo de Boosting\n",
                "clf = CustomBoosting(n_estimators=100, learning_rate=0.01, max_depth=7, min_samples_leaf=7, max_features=X_train.shape[1]//2)\n",
                "clf.fit(X_train.values, y_train.values)"
            ]
        },
        {
            "cell_type": "code",
            "execution_count": 476,
            "metadata": {},
            "outputs": [],
            "source": [
                "# Realizamos predicciones en el conjunto de entrenamiento y prueba\n",
                "test_pred_imp = clf.predict(X_test.values)\n",
                "train_pred_imp = clf.predict(X_train.values)\n"
            ]
        },
        {
            "cell_type": "code",
            "execution_count": 477,
            "metadata": {},
            "outputs": [
                {
                    "data": {
                        "text/html": [
                            "<div>\n",
                            "<style scoped>\n",
                            "    .dataframe tbody tr th:only-of-type {\n",
                            "        vertical-align: middle;\n",
                            "    }\n",
                            "\n",
                            "    .dataframe tbody tr th {\n",
                            "        vertical-align: top;\n",
                            "    }\n",
                            "\n",
                            "    .dataframe thead th {\n",
                            "        text-align: right;\n",
                            "    }\n",
                            "</style>\n",
                            "<table border=\"1\" class=\"dataframe\">\n",
                            "  <thead>\n",
                            "    <tr style=\"text-align: right;\">\n",
                            "      <th></th>\n",
                            "      <th>Accuracy</th>\n",
                            "      <th>F1</th>\n",
                            "      <th>AUC</th>\n",
                            "      <th>Precision</th>\n",
                            "      <th>Recall</th>\n",
                            "      <th>Specificity</th>\n",
                            "    </tr>\n",
                            "  </thead>\n",
                            "  <tbody>\n",
                            "    <tr>\n",
                            "      <th>Train</th>\n",
                            "      <td>0.500000</td>\n",
                            "      <td>0.581173</td>\n",
                            "      <td>0.617207</td>\n",
                            "      <td>0.409615</td>\n",
                            "      <td>1.0</td>\n",
                            "      <td>0.234414</td>\n",
                            "    </tr>\n",
                            "    <tr>\n",
                            "      <th>Test</th>\n",
                            "      <td>0.461039</td>\n",
                            "      <td>0.569948</td>\n",
                            "      <td>0.580808</td>\n",
                            "      <td>0.398551</td>\n",
                            "      <td>1.0</td>\n",
                            "      <td>0.161616</td>\n",
                            "    </tr>\n",
                            "    <tr>\n",
                            "      <th>Diferencia</th>\n",
                            "      <td>0.038961</td>\n",
                            "      <td>0.011225</td>\n",
                            "      <td>0.036399</td>\n",
                            "      <td>0.011065</td>\n",
                            "      <td>0.0</td>\n",
                            "      <td>0.072798</td>\n",
                            "    </tr>\n",
                            "  </tbody>\n",
                            "</table>\n",
                            "</div>"
                        ],
                        "text/plain": [
                            "            Accuracy        F1       AUC  Precision  Recall  Specificity\n",
                            "Train       0.500000  0.581173  0.617207   0.409615     1.0     0.234414\n",
                            "Test        0.461039  0.569948  0.580808   0.398551     1.0     0.161616\n",
                            "Diferencia  0.038961  0.011225  0.036399   0.011065     0.0     0.072798"
                        ]
                    },
                    "execution_count": 477,
                    "metadata": {},
                    "output_type": "execute_result"
                }
            ],
            "source": [
                "\n",
                "# Evaluamos el rendimiento del modelo\n",
                "get_metrics(y_train, y_test, train_pred_imp, test_pred_imp)"
            ]
        },
        {
            "cell_type": "markdown",
            "metadata": {},
            "source": [
                "Boosting para Regresión"
            ]
        },
        {
            "cell_type": "code",
            "execution_count": null,
            "metadata": {},
            "outputs": [
                {
                    "data": {
                        "text/html": [
                            "<div>\n",
                            "<style scoped>\n",
                            "    .dataframe tbody tr th:only-of-type {\n",
                            "        vertical-align: middle;\n",
                            "    }\n",
                            "\n",
                            "    .dataframe tbody tr th {\n",
                            "        vertical-align: top;\n",
                            "    }\n",
                            "\n",
                            "    .dataframe thead th {\n",
                            "        text-align: right;\n",
                            "    }\n",
                            "</style>\n",
                            "<table border=\"1\" class=\"dataframe\">\n",
                            "  <thead>\n",
                            "    <tr style=\"text-align: right;\">\n",
                            "      <th></th>\n",
                            "      <th>Petrol_tax</th>\n",
                            "      <th>Average_income</th>\n",
                            "      <th>Paved_Highways</th>\n",
                            "      <th>Population_Driver_licence(%)</th>\n",
                            "      <th>Petrol_Consumption</th>\n",
                            "    </tr>\n",
                            "  </thead>\n",
                            "  <tbody>\n",
                            "    <tr>\n",
                            "      <th>0</th>\n",
                            "      <td>8.0</td>\n",
                            "      <td>4447</td>\n",
                            "      <td>8577</td>\n",
                            "      <td>0.529</td>\n",
                            "      <td>464</td>\n",
                            "    </tr>\n",
                            "    <tr>\n",
                            "      <th>1</th>\n",
                            "      <td>7.5</td>\n",
                            "      <td>4870</td>\n",
                            "      <td>2351</td>\n",
                            "      <td>0.529</td>\n",
                            "      <td>414</td>\n",
                            "    </tr>\n",
                            "    <tr>\n",
                            "      <th>2</th>\n",
                            "      <td>8.0</td>\n",
                            "      <td>5319</td>\n",
                            "      <td>11868</td>\n",
                            "      <td>0.451</td>\n",
                            "      <td>344</td>\n",
                            "    </tr>\n",
                            "    <tr>\n",
                            "      <th>3</th>\n",
                            "      <td>7.0</td>\n",
                            "      <td>4345</td>\n",
                            "      <td>3905</td>\n",
                            "      <td>0.672</td>\n",
                            "      <td>968</td>\n",
                            "    </tr>\n",
                            "    <tr>\n",
                            "      <th>4</th>\n",
                            "      <td>7.5</td>\n",
                            "      <td>3357</td>\n",
                            "      <td>4121</td>\n",
                            "      <td>0.547</td>\n",
                            "      <td>628</td>\n",
                            "    </tr>\n",
                            "  </tbody>\n",
                            "</table>\n",
                            "</div>"
                        ],
                        "text/plain": [
                            "   Petrol_tax  Average_income  Paved_Highways  Population_Driver_licence(%)  \\\n",
                            "0         8.0            4447            8577                         0.529   \n",
                            "1         7.5            4870            2351                         0.529   \n",
                            "2         8.0            5319           11868                         0.451   \n",
                            "3         7.0            4345            3905                         0.672   \n",
                            "4         7.5            3357            4121                         0.547   \n",
                            "\n",
                            "   Petrol_Consumption  \n",
                            "0                 464  \n",
                            "1                 414  \n",
                            "2                 344  \n",
                            "3                 968  \n",
                            "4                 628  "
                        ]
                    },
                    "execution_count": 277,
                    "metadata": {},
                    "output_type": "execute_result"
                }
            ],
            "source": [
                "train_data = pd.read_csv(\"https://raw.githubusercontent.com/4GeeksAcademy/machine-learning-content/master/assets/clean_petrol_consumption_train.csv\")\n",
                "test_data = pd.read_csv(\"https://raw.githubusercontent.com/4GeeksAcademy/machine-learning-content/master/assets/clean_petrol_consumption_test.csv\")\n",
                "\n",
                "train_data.head()"
            ]
        },
        {
            "cell_type": "code",
            "execution_count": null,
            "metadata": {},
            "outputs": [],
            "source": [
                "X_train = train_data.drop([\"Petrol_Consumption\"], axis = 1)\n",
                "y_train = train_data[\"Petrol_Consumption\"]\n",
                "X_test = test_data.drop([\"Petrol_Consumption\"], axis = 1)\n",
                "y_test = test_data[\"Petrol_Consumption\"]"
            ]
        },
        {
            "cell_type": "code",
            "execution_count": null,
            "metadata": {},
            "outputs": [
                {
                    "data": {
                        "text/html": [
                            "<style>#sk-container-id-46 {color: black;}#sk-container-id-46 pre{padding: 0;}#sk-container-id-46 div.sk-toggleable {background-color: white;}#sk-container-id-46 label.sk-toggleable__label {cursor: pointer;display: block;width: 100%;margin-bottom: 0;padding: 0.3em;box-sizing: border-box;text-align: center;}#sk-container-id-46 label.sk-toggleable__label-arrow:before {content: \"▸\";float: left;margin-right: 0.25em;color: #696969;}#sk-container-id-46 label.sk-toggleable__label-arrow:hover:before {color: black;}#sk-container-id-46 div.sk-estimator:hover label.sk-toggleable__label-arrow:before {color: black;}#sk-container-id-46 div.sk-toggleable__content {max-height: 0;max-width: 0;overflow: hidden;text-align: left;background-color: #f0f8ff;}#sk-container-id-46 div.sk-toggleable__content pre {margin: 0.2em;color: black;border-radius: 0.25em;background-color: #f0f8ff;}#sk-container-id-46 input.sk-toggleable__control:checked~div.sk-toggleable__content {max-height: 200px;max-width: 100%;overflow: auto;}#sk-container-id-46 input.sk-toggleable__control:checked~label.sk-toggleable__label-arrow:before {content: \"▾\";}#sk-container-id-46 div.sk-estimator input.sk-toggleable__control:checked~label.sk-toggleable__label {background-color: #d4ebff;}#sk-container-id-46 div.sk-label input.sk-toggleable__control:checked~label.sk-toggleable__label {background-color: #d4ebff;}#sk-container-id-46 input.sk-hidden--visually {border: 0;clip: rect(1px 1px 1px 1px);clip: rect(1px, 1px, 1px, 1px);height: 1px;margin: -1px;overflow: hidden;padding: 0;position: absolute;width: 1px;}#sk-container-id-46 div.sk-estimator {font-family: monospace;background-color: #f0f8ff;border: 1px dotted black;border-radius: 0.25em;box-sizing: border-box;margin-bottom: 0.5em;}#sk-container-id-46 div.sk-estimator:hover {background-color: #d4ebff;}#sk-container-id-46 div.sk-parallel-item::after {content: \"\";width: 100%;border-bottom: 1px solid gray;flex-grow: 1;}#sk-container-id-46 div.sk-label:hover label.sk-toggleable__label {background-color: #d4ebff;}#sk-container-id-46 div.sk-serial::before {content: \"\";position: absolute;border-left: 1px solid gray;box-sizing: border-box;top: 0;bottom: 0;left: 50%;z-index: 0;}#sk-container-id-46 div.sk-serial {display: flex;flex-direction: column;align-items: center;background-color: white;padding-right: 0.2em;padding-left: 0.2em;position: relative;}#sk-container-id-46 div.sk-item {position: relative;z-index: 1;}#sk-container-id-46 div.sk-parallel {display: flex;align-items: stretch;justify-content: center;background-color: white;position: relative;}#sk-container-id-46 div.sk-item::before, #sk-container-id-46 div.sk-parallel-item::before {content: \"\";position: absolute;border-left: 1px solid gray;box-sizing: border-box;top: 0;bottom: 0;left: 50%;z-index: -1;}#sk-container-id-46 div.sk-parallel-item {display: flex;flex-direction: column;z-index: 1;position: relative;background-color: white;}#sk-container-id-46 div.sk-parallel-item:first-child::after {align-self: flex-end;width: 50%;}#sk-container-id-46 div.sk-parallel-item:last-child::after {align-self: flex-start;width: 50%;}#sk-container-id-46 div.sk-parallel-item:only-child::after {width: 0;}#sk-container-id-46 div.sk-dashed-wrapped {border: 1px dashed gray;margin: 0 0.4em 0.5em 0.4em;box-sizing: border-box;padding-bottom: 0.4em;background-color: white;}#sk-container-id-46 div.sk-label label {font-family: monospace;font-weight: bold;display: inline-block;line-height: 1.2em;}#sk-container-id-46 div.sk-label-container {text-align: center;}#sk-container-id-46 div.sk-container {/* jupyter's `normalize.less` sets `[hidden] { display: none; }` but bootstrap.min.css set `[hidden] { display: none !important; }` so we also need the `!important` here to be able to override the default hidden behavior on the sphinx rendered scikit-learn.org. See: https://github.com/scikit-learn/scikit-learn/issues/21755 */display: inline-block !important;position: relative;}#sk-container-id-46 div.sk-text-repr-fallback {display: none;}</style><div id=\"sk-container-id-46\" class=\"sk-top-container\"><div class=\"sk-text-repr-fallback\"><pre>XGBRegressor(base_score=None, booster=None, callbacks=None,\n",
                            "             colsample_bylevel=None, colsample_bynode=None,\n",
                            "             colsample_bytree=None, device=None, early_stopping_rounds=None,\n",
                            "             enable_categorical=False, eval_metric=None, feature_types=None,\n",
                            "             gamma=None, grow_policy=None, importance_type=None,\n",
                            "             interaction_constraints=None, learning_rate=None, max_bin=None,\n",
                            "             max_cat_threshold=None, max_cat_to_onehot=None,\n",
                            "             max_delta_step=None, max_depth=None, max_leaves=None,\n",
                            "             min_child_weight=None, missing=nan, monotone_constraints=None,\n",
                            "             multi_strategy=None, n_estimators=None, n_jobs=None,\n",
                            "             num_parallel_tree=None, random_state=42, ...)</pre><b>In a Jupyter environment, please rerun this cell to show the HTML representation or trust the notebook. <br />On GitHub, the HTML representation is unable to render, please try loading this page with nbviewer.org.</b></div><div class=\"sk-container\" hidden><div class=\"sk-item\"><div class=\"sk-estimator sk-toggleable\"><input class=\"sk-toggleable__control sk-hidden--visually\" id=\"sk-estimator-id-46\" type=\"checkbox\" checked><label for=\"sk-estimator-id-46\" class=\"sk-toggleable__label sk-toggleable__label-arrow\">XGBRegressor</label><div class=\"sk-toggleable__content\"><pre>XGBRegressor(base_score=None, booster=None, callbacks=None,\n",
                            "             colsample_bylevel=None, colsample_bynode=None,\n",
                            "             colsample_bytree=None, device=None, early_stopping_rounds=None,\n",
                            "             enable_categorical=False, eval_metric=None, feature_types=None,\n",
                            "             gamma=None, grow_policy=None, importance_type=None,\n",
                            "             interaction_constraints=None, learning_rate=None, max_bin=None,\n",
                            "             max_cat_threshold=None, max_cat_to_onehot=None,\n",
                            "             max_delta_step=None, max_depth=None, max_leaves=None,\n",
                            "             min_child_weight=None, missing=nan, monotone_constraints=None,\n",
                            "             multi_strategy=None, n_estimators=None, n_jobs=None,\n",
                            "             num_parallel_tree=None, random_state=42, ...)</pre></div></div></div></div></div>"
                        ],
                        "text/plain": [
                            "XGBRegressor(base_score=None, booster=None, callbacks=None,\n",
                            "             colsample_bylevel=None, colsample_bynode=None,\n",
                            "             colsample_bytree=None, device=None, early_stopping_rounds=None,\n",
                            "             enable_categorical=False, eval_metric=None, feature_types=None,\n",
                            "             gamma=None, grow_policy=None, importance_type=None,\n",
                            "             interaction_constraints=None, learning_rate=None, max_bin=None,\n",
                            "             max_cat_threshold=None, max_cat_to_onehot=None,\n",
                            "             max_delta_step=None, max_depth=None, max_leaves=None,\n",
                            "             min_child_weight=None, missing=nan, monotone_constraints=None,\n",
                            "             multi_strategy=None, n_estimators=None, n_jobs=None,\n",
                            "             num_parallel_tree=None, random_state=42, ...)"
                        ]
                    },
                    "execution_count": 279,
                    "metadata": {},
                    "output_type": "execute_result"
                }
            ],
            "source": [
                "from xgboost import XGBRegressor\n",
                "\n",
                "model_r = XGBRegressor(random_state = 42)\n",
                "model_r.fit(X_train, y_train)"
            ]
        },
        {
            "cell_type": "markdown",
            "metadata": {},
            "source": [
                "PREDICCIÓN DEL MODELO"
            ]
        },
        {
            "cell_type": "code",
            "execution_count": null,
            "metadata": {},
            "outputs": [
                {
                    "data": {
                        "text/plain": [
                            "array([642.72314, 583.89545, 604.52313, 655.17633, 507.17087, 598.1727 ,\n",
                            "       508.003  , 922.8301 , 569.5492 , 586.8937 ], dtype=float32)"
                        ]
                    },
                    "execution_count": 280,
                    "metadata": {},
                    "output_type": "execute_result"
                }
            ],
            "source": [
                "y_pred_r = model_r.predict(X_test)\n",
                "y_pred_r"
            ]
        },
        {
            "cell_type": "markdown",
            "metadata": {},
            "source": [
                "Para calcular la efectividad del modelo utilizaremos el error cuadrático medio (MSE):"
            ]
        },
        {
            "cell_type": "code",
            "execution_count": null,
            "metadata": {},
            "outputs": [
                {
                    "name": "stdout",
                    "output_type": "stream",
                    "text": [
                        "Error cuadrático medio: 12462.193910804484\n",
                        "Coeficiente de determinación: -0.8575642037363085\n"
                    ]
                }
            ],
            "source": [
                "from sklearn.metrics import mean_squared_error\n",
                "\n",
                "print(f\"Error cuadrático medio: {mean_squared_error(y_test, y_pred_r)}\")\n",
                "print(f\"Coeficiente de determinación: {r2_score(y_test, y_pred_r)}\")"
            ]
        },
        {
            "cell_type": "markdown",
            "metadata": {},
            "source": [
                "Optimizado"
            ]
        },
        {
            "cell_type": "code",
            "execution_count": null,
            "metadata": {},
            "outputs": [
                {
                    "data": {
                        "text/html": [
                            "<style>#sk-container-id-47 {color: black;}#sk-container-id-47 pre{padding: 0;}#sk-container-id-47 div.sk-toggleable {background-color: white;}#sk-container-id-47 label.sk-toggleable__label {cursor: pointer;display: block;width: 100%;margin-bottom: 0;padding: 0.3em;box-sizing: border-box;text-align: center;}#sk-container-id-47 label.sk-toggleable__label-arrow:before {content: \"▸\";float: left;margin-right: 0.25em;color: #696969;}#sk-container-id-47 label.sk-toggleable__label-arrow:hover:before {color: black;}#sk-container-id-47 div.sk-estimator:hover label.sk-toggleable__label-arrow:before {color: black;}#sk-container-id-47 div.sk-toggleable__content {max-height: 0;max-width: 0;overflow: hidden;text-align: left;background-color: #f0f8ff;}#sk-container-id-47 div.sk-toggleable__content pre {margin: 0.2em;color: black;border-radius: 0.25em;background-color: #f0f8ff;}#sk-container-id-47 input.sk-toggleable__control:checked~div.sk-toggleable__content {max-height: 200px;max-width: 100%;overflow: auto;}#sk-container-id-47 input.sk-toggleable__control:checked~label.sk-toggleable__label-arrow:before {content: \"▾\";}#sk-container-id-47 div.sk-estimator input.sk-toggleable__control:checked~label.sk-toggleable__label {background-color: #d4ebff;}#sk-container-id-47 div.sk-label input.sk-toggleable__control:checked~label.sk-toggleable__label {background-color: #d4ebff;}#sk-container-id-47 input.sk-hidden--visually {border: 0;clip: rect(1px 1px 1px 1px);clip: rect(1px, 1px, 1px, 1px);height: 1px;margin: -1px;overflow: hidden;padding: 0;position: absolute;width: 1px;}#sk-container-id-47 div.sk-estimator {font-family: monospace;background-color: #f0f8ff;border: 1px dotted black;border-radius: 0.25em;box-sizing: border-box;margin-bottom: 0.5em;}#sk-container-id-47 div.sk-estimator:hover {background-color: #d4ebff;}#sk-container-id-47 div.sk-parallel-item::after {content: \"\";width: 100%;border-bottom: 1px solid gray;flex-grow: 1;}#sk-container-id-47 div.sk-label:hover label.sk-toggleable__label {background-color: #d4ebff;}#sk-container-id-47 div.sk-serial::before {content: \"\";position: absolute;border-left: 1px solid gray;box-sizing: border-box;top: 0;bottom: 0;left: 50%;z-index: 0;}#sk-container-id-47 div.sk-serial {display: flex;flex-direction: column;align-items: center;background-color: white;padding-right: 0.2em;padding-left: 0.2em;position: relative;}#sk-container-id-47 div.sk-item {position: relative;z-index: 1;}#sk-container-id-47 div.sk-parallel {display: flex;align-items: stretch;justify-content: center;background-color: white;position: relative;}#sk-container-id-47 div.sk-item::before, #sk-container-id-47 div.sk-parallel-item::before {content: \"\";position: absolute;border-left: 1px solid gray;box-sizing: border-box;top: 0;bottom: 0;left: 50%;z-index: -1;}#sk-container-id-47 div.sk-parallel-item {display: flex;flex-direction: column;z-index: 1;position: relative;background-color: white;}#sk-container-id-47 div.sk-parallel-item:first-child::after {align-self: flex-end;width: 50%;}#sk-container-id-47 div.sk-parallel-item:last-child::after {align-self: flex-start;width: 50%;}#sk-container-id-47 div.sk-parallel-item:only-child::after {width: 0;}#sk-container-id-47 div.sk-dashed-wrapped {border: 1px dashed gray;margin: 0 0.4em 0.5em 0.4em;box-sizing: border-box;padding-bottom: 0.4em;background-color: white;}#sk-container-id-47 div.sk-label label {font-family: monospace;font-weight: bold;display: inline-block;line-height: 1.2em;}#sk-container-id-47 div.sk-label-container {text-align: center;}#sk-container-id-47 div.sk-container {/* jupyter's `normalize.less` sets `[hidden] { display: none; }` but bootstrap.min.css set `[hidden] { display: none !important; }` so we also need the `!important` here to be able to override the default hidden behavior on the sphinx rendered scikit-learn.org. See: https://github.com/scikit-learn/scikit-learn/issues/21755 */display: inline-block !important;position: relative;}#sk-container-id-47 div.sk-text-repr-fallback {display: none;}</style><div id=\"sk-container-id-47\" class=\"sk-top-container\"><div class=\"sk-text-repr-fallback\"><pre>XGBRegressor(base_score=None, booster=None, callbacks=None,\n",
                            "             colsample_bylevel=None, colsample_bynode=None,\n",
                            "             colsample_bytree=None, device=None, early_stopping_rounds=None,\n",
                            "             enable_categorical=False, eval_metric=None, feature_types=None,\n",
                            "             gamma=None, grow_policy=None, importance_type=None,\n",
                            "             interaction_constraints=None, learning_rate=0.01, max_bin=None,\n",
                            "             max_cat_threshold=None, max_cat_to_onehot=None,\n",
                            "             max_delta_step=None, max_depth=None, max_leaves=None,\n",
                            "             min_child_weight=None, missing=nan, monotone_constraints=None,\n",
                            "             multi_strategy=None, n_estimators=100, n_jobs=None,\n",
                            "             num_parallel_tree=None, random_state=42, ...)</pre><b>In a Jupyter environment, please rerun this cell to show the HTML representation or trust the notebook. <br />On GitHub, the HTML representation is unable to render, please try loading this page with nbviewer.org.</b></div><div class=\"sk-container\" hidden><div class=\"sk-item\"><div class=\"sk-estimator sk-toggleable\"><input class=\"sk-toggleable__control sk-hidden--visually\" id=\"sk-estimator-id-47\" type=\"checkbox\" checked><label for=\"sk-estimator-id-47\" class=\"sk-toggleable__label sk-toggleable__label-arrow\">XGBRegressor</label><div class=\"sk-toggleable__content\"><pre>XGBRegressor(base_score=None, booster=None, callbacks=None,\n",
                            "             colsample_bylevel=None, colsample_bynode=None,\n",
                            "             colsample_bytree=None, device=None, early_stopping_rounds=None,\n",
                            "             enable_categorical=False, eval_metric=None, feature_types=None,\n",
                            "             gamma=None, grow_policy=None, importance_type=None,\n",
                            "             interaction_constraints=None, learning_rate=0.01, max_bin=None,\n",
                            "             max_cat_threshold=None, max_cat_to_onehot=None,\n",
                            "             max_delta_step=None, max_depth=None, max_leaves=None,\n",
                            "             min_child_weight=None, missing=nan, monotone_constraints=None,\n",
                            "             multi_strategy=None, n_estimators=100, n_jobs=None,\n",
                            "             num_parallel_tree=None, random_state=42, ...)</pre></div></div></div></div></div>"
                        ],
                        "text/plain": [
                            "XGBRegressor(base_score=None, booster=None, callbacks=None,\n",
                            "             colsample_bylevel=None, colsample_bynode=None,\n",
                            "             colsample_bytree=None, device=None, early_stopping_rounds=None,\n",
                            "             enable_categorical=False, eval_metric=None, feature_types=None,\n",
                            "             gamma=None, grow_policy=None, importance_type=None,\n",
                            "             interaction_constraints=None, learning_rate=0.01, max_bin=None,\n",
                            "             max_cat_threshold=None, max_cat_to_onehot=None,\n",
                            "             max_delta_step=None, max_depth=None, max_leaves=None,\n",
                            "             min_child_weight=None, missing=nan, monotone_constraints=None,\n",
                            "             multi_strategy=None, n_estimators=100, n_jobs=None,\n",
                            "             num_parallel_tree=None, random_state=42, ...)"
                        ]
                    },
                    "execution_count": 282,
                    "metadata": {},
                    "output_type": "execute_result"
                }
            ],
            "source": [
                "model_r2 = XGBRegressor(n_estimators = 100, learning_rate = 0.01, random_state = 42)\n",
                "model_r2.fit(X_train, y_train)"
            ]
        },
        {
            "cell_type": "code",
            "execution_count": null,
            "metadata": {},
            "outputs": [
                {
                    "data": {
                        "text/plain": [
                            "array([609.3015 , 597.8919 , 588.487  , 617.7691 , 539.5742 , 595.94116,\n",
                            "       554.8839 , 737.2859 , 580.9036 , 572.311  ], dtype=float32)"
                        ]
                    },
                    "execution_count": 283,
                    "metadata": {},
                    "output_type": "execute_result"
                }
            ],
            "source": [
                "y_pred_r2 = model_r2.predict(X_test)\n",
                "y_pred_r2"
            ]
        },
        {
            "cell_type": "code",
            "execution_count": null,
            "metadata": {},
            "outputs": [
                {
                    "name": "stdout",
                    "output_type": "stream",
                    "text": [
                        "Error cuadrático medio: 5905.223264289275\n",
                        "Coeficiente de determinación: 0.11979131208154048\n"
                    ]
                }
            ],
            "source": [
                "print(f\"Error cuadrático medio: {mean_squared_error(y_test, y_pred_r2)}\")\n",
                "print(f\"Coeficiente de determinación: {r2_score(y_test, y_pred_r2)}\")"
            ]
        }
    ],
    "metadata": {
        "kernelspec": {
            "display_name": "Python 3.8.13 64-bit ('3.8.13')",
            "language": "python",
            "name": "python3"
        },
        "language_info": {
            "codemirror_mode": {
                "name": "ipython",
                "version": 3
            },
            "file_extension": ".py",
            "mimetype": "text/x-python",
            "name": "python",
            "nbconvert_exporter": "python",
            "pygments_lexer": "ipython3",
            "version": "3.11.4"
        },
        "orig_nbformat": 4,
        "vscode": {
            "interpreter": {
                "hash": "110cc1dee26208153f2972f08a2ad52b6a56238dc66d48e87fb757ef2996db56"
            }
        }
    },
    "nbformat": 4,
    "nbformat_minor": 2
}
